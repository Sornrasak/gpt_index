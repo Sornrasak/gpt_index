{
 "cells": [
  {
   "cell_type": "code",
   "execution_count": 3,
   "metadata": {},
   "outputs": [],
   "source": [
    "# My OpenAI Key\n",
    "import os\n",
    "# os.environ['OPENAI_API_KEY'] = \"\"\n",
    "with open('../../.env') as f:\n",
    "    for line in f:\n",
    "        k, v = line.strip().split('=')\n",
    "        os.environ[k] = v"
   ]
  },
  {
   "cell_type": "code",
   "execution_count": 10,
   "metadata": {},
   "outputs": [
    {
     "data": {
      "text/plain": [
       "[3]"
      ]
     },
     "execution_count": 10,
     "metadata": {},
     "output_type": "execute_result"
    }
   ],
   "source": [
    "import re\n",
    "msg = 'asd||'\n",
    "[m.start() for m in re.finditer('\\|\\|', msg)]"
   ]
  },
  {
   "cell_type": "code",
   "execution_count": 29,
   "metadata": {},
   "outputs": [
    {
     "name": "stdout",
     "output_type": "stream",
     "text": [
      "({'a': 1, 'b': 2, 'c': 'asd', 'd': 5.2, 'e': ['asd', '1', 'dsa']}, 'example message')\n",
      "({}, 'example message2')\n",
      "({'a': 1, 'b': 2, 'c': 'asd', 'd': 5.2, 'e': ['asd', '1', 'dsa']}, 'example message')\n",
      "({'a': 1, 'b': 2, 'c': 'asd', 'd': 5.2, 'e': ['asd', '1', 'dsa']}, '|dev2|example message')\n",
      "({'a': 1, 'b': 2, 'c': 'asd', 'd': 5.2, 'e': ['asd', '1', 'dsa']}, 'example message|dev2|')\n",
      "({}, 'a:1 -- b:2 --c:asd-- d:5.2-- e:[asd, 1, dsa]||example message')\n",
      "({}, ' message')\n"
     ]
    }
   ],
   "source": [
    "import re\n",
    "\n",
    "def parse_kwargs(msg):\n",
    "    # parse_kwargs('||a:1 -- b:2 --c:asd-- d:5.2-- e:[asd, 1, dsa]||example message') -> {'a': 1, 'b': 2, 'c': 'asd', 'd': 5.2, 'e': ['asd', 1, 'dsa']}, 'example message'\n",
    "    indices = [m.start() for m in re.finditer('\\|\\|', msg)]\n",
    "    kwargs_raw = ''\n",
    "    end = -2\n",
    "    for start, end in zip(indices, indices[1:]):\n",
    "        if end - start < 4:\n",
    "            continue\n",
    "        kwargs_raw = msg[start + 2: end]\n",
    "        break\n",
    "    kwargs = {}\n",
    "\n",
    "    for kwarg_raw in kwargs_raw.split('--'):\n",
    "        if not kwarg_raw:\n",
    "            continue\n",
    "        key_value = kwarg_raw.split(':')\n",
    "        if len(key_value) != 2:\n",
    "            continue\n",
    "        key, value = key_value\n",
    "        key = key.strip().strip('|')\n",
    "        value = value.strip()\n",
    "        if value[0] == '[' and value[-1] == ']':\n",
    "            value = value[1:-1].split(',')\n",
    "            value = [v.strip() for v in value]\n",
    "        elif value.isnumeric():\n",
    "            value = int(value)\n",
    "        elif value.replace('.', '', 1).isnumeric():\n",
    "            value = float(value)\n",
    "        kwargs[key] = value\n",
    "    return kwargs, msg[end + 2:]\n",
    "\n",
    "print(parse_kwargs('||a:1 -- b:2 --c:asd-- d:5.2-- e:[asd, 1, dsa]||example message'))\n",
    "print(parse_kwargs('example message2'))\n",
    "print(parse_kwargs('|dev2|||a:1 -- b:2 --c:asd-- d:5.2-- e:[asd, 1, dsa]||example message'))\n",
    "print(parse_kwargs('||a:1 -- b:2 --c:asd-- d:5.2-- e:[asd, 1, dsa]|||dev2|example message'))\n",
    "print(parse_kwargs('||a:1 -- b:2 --c:asd-- d:5.2-- e:[asd, 1, dsa]||example message|dev2|'))\n",
    "print(parse_kwargs('a:1 -- b:2 --c:asd-- d:5.2-- e:[asd, 1, dsa]||example message'))\n",
    "print(parse_kwargs('a:1 -- b:2 --c:asd-- d:5.2-- e:[asd, 1, dsa]||example|| message'))"
   ]
  },
  {
   "cell_type": "code",
   "execution_count": null,
   "metadata": {},
   "outputs": [],
   "source": [
    "import logging\n",
    "import sys\n",
    "\n",
    "# logging.basicConfig(stream=sys.stdout, level=logging.INFO)\n",
    "logging.basicConfig(stream=sys.stdout, level=logging.DEBUG)\n",
    "logging.getLogger().addHandler(logging.StreamHandler(stream=sys.stdout))"
   ]
  },
  {
   "cell_type": "code",
   "execution_count": null,
   "metadata": {},
   "outputs": [],
   "source": [
    "from llama_index import GPTTreeIndex, SimpleDirectoryReader, LLMPredictor, LangchainEmbedding\n",
    "from IPython.display import Markdown, display\n",
    "from langchain import OpenAI\n",
    "from langchain.embeddings.huggingface import HuggingFaceEmbeddings\n"
   ]
  },
  {
   "cell_type": "code",
   "execution_count": null,
   "metadata": {},
   "outputs": [],
   "source": [
    "documents = SimpleDirectoryReader('data').load_data()"
   ]
  },
  {
   "cell_type": "code",
   "execution_count": null,
   "metadata": {},
   "outputs": [],
   "source": [
    "# # load in HF embedding model from langchain\n",
    "# embed_model = LangchainEmbedding(HuggingFaceEmbeddings())\n",
    "\n",
    "# # load index\n",
    "# new_index = GPTListIndex.load_from_disk('index_list_emb.json')\n",
    "\n",
    "# # query with embed_model specified\n",
    "# response = new_index.query(\n",
    "#     \"<query_text>\", \n",
    "#     mode=\"embedding\", \n",
    "#     verbose=True, \n",
    "#     embed_model=embed_model\n",
    "# )\n",
    "# print(response)"
   ]
  },
  {
   "cell_type": "code",
   "execution_count": null,
   "metadata": {},
   "outputs": [],
   "source": [
    "\n",
    "llm_predictor = LLMPredictor(llm=OpenAI(temperature=0, model_name=\"gpt-3.5-turbo\"))"
   ]
  },
  {
   "cell_type": "code",
   "execution_count": null,
   "metadata": {},
   "outputs": [],
   "source": [
    "# index = GPTTreeIndex(documents, llm_predictor=llm_predictor)"
   ]
  },
  {
   "cell_type": "code",
   "execution_count": null,
   "metadata": {},
   "outputs": [],
   "source": [
    "index.save_to_disk('index.json')"
   ]
  },
  {
   "cell_type": "code",
   "execution_count": null,
   "metadata": {},
   "outputs": [],
   "source": [
    "# try loading\n",
    "new_index = GPTTreeIndex.load_from_disk('index.json')"
   ]
  }
 ],
 "metadata": {
  "kernelspec": {
   "display_name": "ml-py39",
   "language": "python",
   "name": "python3"
  },
  "language_info": {
   "codemirror_mode": {
    "name": "ipython",
    "version": 3
   },
   "file_extension": ".py",
   "mimetype": "text/x-python",
   "name": "python",
   "nbconvert_exporter": "python",
   "pygments_lexer": "ipython3",
   "version": "3.9.12"
  },
  "orig_nbformat": 4,
  "vscode": {
   "interpreter": {
    "hash": "d8841a2501e3b05351d808c773254171689effa022d83c0139d55d6bb75c62af"
   }
  }
 },
 "nbformat": 4,
 "nbformat_minor": 2
}
